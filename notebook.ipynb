{
 "cells": [
  {
   "cell_type": "markdown",
   "id": "3ef11bf6",
   "metadata": {
    "papermill": {
     "duration": 0.008485,
     "end_time": "2025-10-27T01:11:40.875696",
     "exception": false,
     "start_time": "2025-10-27T01:11:40.867211",
     "status": "completed"
    },
    "tags": []
   },
   "source": [
    "# Kaggle Competition: Natural Language Processing with Disaster Tweets\n"
   ]
  },
  {
   "cell_type": "markdown",
   "id": "9ec6feee",
   "metadata": {
    "papermill": {
     "duration": 0.006729,
     "end_time": "2025-10-27T01:11:40.889857",
     "exception": false,
     "start_time": "2025-10-27T01:11:40.883128",
     "status": "completed"
    },
    "tags": []
   },
   "source": [
    "## Description of the Problem and Data\n",
    "Briefly describe the challenge problem and NLP.  Describe the size, dimension, structure, etc., of the data."
   ]
  },
  {
   "cell_type": "code",
   "execution_count": 1,
   "id": "d9651285",
   "metadata": {
    "execution": {
     "iopub.execute_input": "2025-10-27T01:11:40.907334Z",
     "iopub.status.busy": "2025-10-27T01:11:40.906388Z",
     "iopub.status.idle": "2025-10-27T01:11:45.870994Z",
     "shell.execute_reply": "2025-10-27T01:11:45.870060Z"
    },
    "papermill": {
     "duration": 4.974871,
     "end_time": "2025-10-27T01:11:45.872697",
     "exception": false,
     "start_time": "2025-10-27T01:11:40.897826",
     "status": "completed"
    },
    "tags": []
   },
   "outputs": [],
   "source": [
    "# Import\n",
    "import pandas as pd\n",
    "import numpy as np\n",
    "import matplotlib.pyplot as plt\n",
    "import seaborn as sns\n",
    "\n",
    "import re\n",
    "import string\n",
    "from urllib.parse import unquote\n",
    "import nltk\n",
    "from nltk.corpus import stopwords\n",
    "from nltk.stem import WordNetLemmatizer\n",
    "from nltk.tokenize import word_tokenize"
   ]
  },
  {
   "cell_type": "markdown",
   "id": "e4694224",
   "metadata": {
    "papermill": {
     "duration": 0.007571,
     "end_time": "2025-10-27T01:11:45.887694",
     "exception": false,
     "start_time": "2025-10-27T01:11:45.880123",
     "status": "completed"
    },
    "tags": []
   },
   "source": [
    "### Problem\n",
    "(from Kaggle) Twitter has become an important communication channel in times of emergency.\n",
    "The ubiquitousness of smartphones enables people to announce an emergency they’re observing in real-time. Because of this, more agencies are interested in programatically monitoring Twitter (i.e. disaster relief organizations and news agencies).\n",
    "\n",
    "Natural Language Processing - NLP enables computers to understand, interpret, and generate human language.  Key aspects include: Understanding context and meaning, processing text and speech, and enabling technologies for use in applications, like machine translation or voice assistants.  "
   ]
  },
  {
   "cell_type": "markdown",
   "id": "65c674f9",
   "metadata": {
    "papermill": {
     "duration": 0.006772,
     "end_time": "2025-10-27T01:11:45.901431",
     "exception": false,
     "start_time": "2025-10-27T01:11:45.894659",
     "status": "completed"
    },
    "tags": []
   },
   "source": [
    "Sources for NLP techniques: NLTK, tensorflow, keras, and sklearn documentation. Reddit r/NLP.   "
   ]
  },
  {
   "cell_type": "markdown",
   "id": "f1f8fff4",
   "metadata": {
    "papermill": {
     "duration": 0.006579,
     "end_time": "2025-10-27T01:11:45.915022",
     "exception": false,
     "start_time": "2025-10-27T01:11:45.908443",
     "status": "completed"
    },
    "tags": []
   },
   "source": [
    "### Data\n",
    "Each sample in the train and test set has the following information: The text of a tweet, a keyword from that tweet (watch for blanks!), and the location the tweet was sent from (also could be missing).\n",
    "\n",
    "We are predicting whether a given tweet is about a real disaster or not.  If so, predict a '1', otherwise '0'.\n",
    "\n",
    "Columns: 'id', 'text', 'location', 'keyword', 'target' (in train.csv only, this denotes whether a tweet is about a real disaster or not)."
   ]
  },
  {
   "cell_type": "code",
   "execution_count": 2,
   "id": "93dfb2e9",
   "metadata": {
    "execution": {
     "iopub.execute_input": "2025-10-27T01:11:45.931404Z",
     "iopub.status.busy": "2025-10-27T01:11:45.930260Z",
     "iopub.status.idle": "2025-10-27T01:11:45.994252Z",
     "shell.execute_reply": "2025-10-27T01:11:45.993223Z"
    },
    "papermill": {
     "duration": 0.074351,
     "end_time": "2025-10-27T01:11:45.996333",
     "exception": false,
     "start_time": "2025-10-27T01:11:45.921982",
     "status": "completed"
    },
    "tags": []
   },
   "outputs": [],
   "source": [
    "# load the training dataset\n",
    "df_train = pd.read_csv(\"/kaggle/input/nlp-getting-started/train.csv\")"
   ]
  },
  {
   "cell_type": "code",
   "execution_count": 3,
   "id": "f401acf8",
   "metadata": {
    "execution": {
     "iopub.execute_input": "2025-10-27T01:11:46.012269Z",
     "iopub.status.busy": "2025-10-27T01:11:46.011953Z",
     "iopub.status.idle": "2025-10-27T01:11:46.053410Z",
     "shell.execute_reply": "2025-10-27T01:11:46.052298Z"
    },
    "papermill": {
     "duration": 0.051554,
     "end_time": "2025-10-27T01:11:46.055100",
     "exception": false,
     "start_time": "2025-10-27T01:11:46.003546",
     "status": "completed"
    },
    "tags": []
   },
   "outputs": [
    {
     "name": "stdout",
     "output_type": "stream",
     "text": [
      "Dimensions (Rows, Columns): (7613, 5)\n",
      "Total elements: 38065\n",
      "<class 'pandas.core.frame.DataFrame'>\n",
      "RangeIndex: 7613 entries, 0 to 7612\n",
      "Data columns (total 5 columns):\n",
      " #   Column    Non-Null Count  Dtype \n",
      "---  ------    --------------  ----- \n",
      " 0   id        7613 non-null   int64 \n",
      " 1   keyword   7552 non-null   object\n",
      " 2   location  5080 non-null   object\n",
      " 3   text      7613 non-null   object\n",
      " 4   target    7613 non-null   int64 \n",
      "dtypes: int64(2), object(3)\n",
      "memory usage: 297.5+ KB\n",
      "\n",
      "Data Types per Column:\n",
      " id           int64\n",
      "keyword     object\n",
      "location    object\n",
      "text        object\n",
      "target       int64\n",
      "dtype: object\n",
      "\n",
      "First 3 rows:\n",
      "    id keyword location                                               text  \\\n",
      "0   1     NaN      NaN  Our Deeds are the Reason of this #earthquake M...   \n",
      "1   4     NaN      NaN             Forest fire near La Ronge Sask. Canada   \n",
      "2   5     NaN      NaN  All residents asked to 'shelter in place' are ...   \n",
      "\n",
      "   target  \n",
      "0       1  \n",
      "1       1  \n",
      "2       1  \n",
      "\n",
      "Missing values per column:\n",
      " id             0\n",
      "keyword       61\n",
      "location    2533\n",
      "text           0\n",
      "target         0\n",
      "dtype: int64\n"
     ]
    }
   ],
   "source": [
    "# Describe the data size, dimension, structure, etc...\n",
    "print(f\"Dimensions (Rows, Columns): {df_train.shape}\")\n",
    "print(f\"Total elements: {df_train.size}\")\n",
    "\n",
    "df_train.info()\n",
    "print(\"\\nData Types per Column:\\n\", df_train.dtypes)\n",
    "print(\"\\nFirst 3 rows:\\n\", df_train.head(3))\n",
    "\n",
    "# Check for missing values (hinted at in problem description)\n",
    "print(\"\\nMissing values per column:\\n\", df_train.isnull().sum())"
   ]
  },
  {
   "cell_type": "markdown",
   "id": "5247beae",
   "metadata": {
    "papermill": {
     "duration": 0.00679,
     "end_time": "2025-10-27T01:11:46.068986",
     "exception": false,
     "start_time": "2025-10-27T01:11:46.062196",
     "status": "completed"
    },
    "tags": []
   },
   "source": [
    "## Exploratory Data Analysis\n",
    "Show a few visualizations.  Describe any data cleaning procedures.  Based on this EDA, what is the plan of analysis?"
   ]
  },
  {
   "cell_type": "markdown",
   "id": "6ecd676d",
   "metadata": {
    "papermill": {
     "duration": 0.007166,
     "end_time": "2025-10-27T01:11:46.082913",
     "exception": false,
     "start_time": "2025-10-27T01:11:46.075747",
     "status": "completed"
    },
    "tags": []
   },
   "source": [
    "'keyword' is missing 61 values.  This represents a small fraction of the data so I think that just deleting the rows\n",
    " will be the best option.  This will have a negligible impact on the model's training. "
   ]
  },
  {
   "cell_type": "code",
   "execution_count": 4,
   "id": "5804ba9a",
   "metadata": {
    "execution": {
     "iopub.execute_input": "2025-10-27T01:11:46.098282Z",
     "iopub.status.busy": "2025-10-27T01:11:46.097951Z",
     "iopub.status.idle": "2025-10-27T01:11:46.110833Z",
     "shell.execute_reply": "2025-10-27T01:11:46.109629Z"
    },
    "papermill": {
     "duration": 0.022829,
     "end_time": "2025-10-27T01:11:46.112554",
     "exception": false,
     "start_time": "2025-10-27T01:11:46.089725",
     "status": "completed"
    },
    "tags": []
   },
   "outputs": [
    {
     "name": "stdout",
     "output_type": "stream",
     "text": [
      "New training dataframe shape after dropping missing rows: (7552, 5)\n"
     ]
    }
   ],
   "source": [
    "# Handle missing values from 'keyword'\n",
    "df_train.dropna(subset=['keyword'], inplace=True)\n",
    "print(f\"New training dataframe shape after dropping missing rows: {df_train.shape}\")"
   ]
  },
  {
   "cell_type": "markdown",
   "id": "cd31fed4",
   "metadata": {
    "papermill": {
     "duration": 0.006866,
     "end_time": "2025-10-27T01:11:46.127079",
     "exception": false,
     "start_time": "2025-10-27T01:11:46.120213",
     "status": "completed"
    },
    "tags": []
   },
   "source": [
    "After accounting for the missing values in 'keyword', 'location' has 2472 missing values.  This is a large percentage of the data so I do not just want to delete it.  I'll replace the na's with a 'NONE_PROVIDED' to give them their own category and we can potentially check if this category has any predictive value."
   ]
  },
  {
   "cell_type": "code",
   "execution_count": 5,
   "id": "1f271834",
   "metadata": {
    "execution": {
     "iopub.execute_input": "2025-10-27T01:11:46.142477Z",
     "iopub.status.busy": "2025-10-27T01:11:46.142125Z",
     "iopub.status.idle": "2025-10-27T01:11:46.149619Z",
     "shell.execute_reply": "2025-10-27T01:11:46.148506Z"
    },
    "papermill": {
     "duration": 0.017083,
     "end_time": "2025-10-27T01:11:46.151120",
     "exception": false,
     "start_time": "2025-10-27T01:11:46.134037",
     "status": "completed"
    },
    "tags": []
   },
   "outputs": [
    {
     "name": "stdout",
     "output_type": "stream",
     "text": [
      "Missing 'location' values imputed with 'NONE_PROVIDED'.\n"
     ]
    }
   ],
   "source": [
    "# Handle missing values from 'location'\n",
    "df_train['location'] = df_train['location'].fillna('NONE_PROVIDED')\n",
    "print(\"Missing 'location' values imputed with 'NONE_PROVIDED'.\")"
   ]
  },
  {
   "cell_type": "code",
   "execution_count": 6,
   "id": "d31034ca",
   "metadata": {
    "execution": {
     "iopub.execute_input": "2025-10-27T01:11:46.166801Z",
     "iopub.status.busy": "2025-10-27T01:11:46.166425Z",
     "iopub.status.idle": "2025-10-27T01:11:46.397934Z",
     "shell.execute_reply": "2025-10-27T01:11:46.396828Z"
    },
    "papermill": {
     "duration": 0.241299,
     "end_time": "2025-10-27T01:11:46.399609",
     "exception": false,
     "start_time": "2025-10-27T01:11:46.158310",
     "status": "completed"
    },
    "tags": []
   },
   "outputs": [
    {
     "data": {
      "image/png": "[encoded data removed]",
      "text/plain": [
       "<Figure size 600x500 with 1 Axes>"
      ]
     },
     "metadata": {},
     "output_type": "display_data"
    }
   ],
   "source": [
    "# Check the balance of the target classes using a count plot\n",
    "plt.figure(figsize=(6,5))\n",
    "sns.countplot(x='target', data=df_train)\n",
    "plt.title('Distribution of Target Class')\n",
    "plt.xlabel('Target (0: Not Disaster, 1: Disaster)')\n",
    "plt.ylabel('Count')\n",
    "plt.xticks([0,1])\n",
    "plt.grid(axis='y', alpha = 0.5)\n",
    "plt.show()"
   ]
  },
  {
   "cell_type": "markdown",
   "id": "d9bcbc95",
   "metadata": {
    "papermill": {
     "duration": 0.007096,
     "end_time": "2025-10-27T01:11:46.414402",
     "exception": false,
     "start_time": "2025-10-27T01:11:46.407306",
     "status": "completed"
    },
    "tags": []
   },
   "source": [
    "### Text Cleaning and Normalization\n",
    "Remove/replace elements that are typically irrelevant to the text's meaning.  HTML tags, URLs, Hashtags, Mentions, and Punctuation.\n",
    "\n",
    "Standardize the remaining text.  Lowercasing, tokenization (splitting text into individual words/sub-words), Stop Word removal, and Lemmatize (reduce to base form of word)."
   ]
  },
  {
   "cell_type": "code",
   "execution_count": 7,
   "id": "3ab2bb64",
   "metadata": {
    "execution": {
     "iopub.execute_input": "2025-10-27T01:11:46.430367Z",
     "iopub.status.busy": "2025-10-27T01:11:46.430044Z",
     "iopub.status.idle": "2025-10-27T01:11:46.442034Z",
     "shell.execute_reply": "2025-10-27T01:11:46.440920Z"
    },
    "papermill": {
     "duration": 0.022225,
     "end_time": "2025-10-27T01:11:46.443915",
     "exception": false,
     "start_time": "2025-10-27T01:11:46.421690",
     "status": "completed"
    },
    "tags": []
   },
   "outputs": [],
   "source": [
    "# Preprocessing Function\n",
    "lemmatizer = WordNetLemmatizer()\n",
    "stop_words = set(stopwords.words('english'))\n",
    "\n",
    "def preprocess_text(text):\n",
    "    # HTML tags\n",
    "    text = re.sub(r'<.*?>', '', text)\n",
    "    # URLs\n",
    "    text = re.sub(r'https?://\\S+|www\\.\\S+', '', text)\n",
    "    # Mentions and Hashtags\n",
    "    text = re.sub(r'@\\w+|#', '', text)\n",
    "    # Punctuation\n",
    "    text = text.translate(str.maketrans('', '', string.punctuation))\n",
    "\n",
    "    # Lowercase\n",
    "    text = text.lower()\n",
    "    # Tokenize\n",
    "    tokens = word_tokenize(text)\n",
    "    # Stop Word removal and lemmatize\n",
    "    processed_tokens = []\n",
    "    for word in tokens:\n",
    "        if word not in stop_words:\n",
    "            processed_tokens.append(lemmatizer.lemmatize(word))\n",
    "\n",
    "    return \" \".join(processed_tokens)"
   ]
  },
  {
   "cell_type": "code",
   "execution_count": 8,
   "id": "44632272",
   "metadata": {
    "execution": {
     "iopub.execute_input": "2025-10-27T01:11:46.461646Z",
     "iopub.status.busy": "2025-10-27T01:11:46.460685Z",
     "iopub.status.idle": "2025-10-27T01:11:50.890585Z",
     "shell.execute_reply": "2025-10-27T01:11:50.889255Z"
    },
    "papermill": {
     "duration": 4.440657,
     "end_time": "2025-10-27T01:11:50.892239",
     "exception": false,
     "start_time": "2025-10-27T01:11:46.451582",
     "status": "completed"
    },
    "tags": []
   },
   "outputs": [
    {
     "name": "stdout",
     "output_type": "stream",
     "text": [
      "Text column ('text') has been cleaned and normalized into 'clean_text'.\n",
      "\n",
      "Example Original vs. Cleaned Text:\n",
      "Original: @bbcmtd Wholesale Markets ablaze http://t.co/lHYXEOHY6C\n",
      "Cleaned:  wholesale market ablaze\n"
     ]
    }
   ],
   "source": [
    "# Apply preprocessing to 'text' column\n",
    "df_train['clean_text'] = df_train['text'].apply(preprocess_text)\n",
    "\n",
    "print(\"Text column ('text') has been cleaned and normalized into 'clean_text'.\")\n",
    "print(\"\\nExample Original vs. Cleaned Text:\")\n",
    "print(f\"Original: {df_train['text'].iloc[0]}\")\n",
    "print(f\"Cleaned:  {df_train['clean_text'].iloc[0]}\")"
   ]
  },
  {
   "cell_type": "markdown",
   "id": "e66448b8",
   "metadata": {
    "papermill": {
     "duration": 0.007362,
     "end_time": "2025-10-27T01:11:50.907314",
     "exception": false,
     "start_time": "2025-10-27T01:11:50.899952",
     "status": "completed"
    },
    "tags": []
   },
   "source": [
    "### Preprocess 'keyword' Column\n",
    "decode the URL encodings, aggregate low frequency keywords, One-hot encode"
   ]
  },
  {
   "cell_type": "code",
   "execution_count": 9,
   "id": "7d12af7a",
   "metadata": {
    "execution": {
     "iopub.execute_input": "2025-10-27T01:11:50.923403Z",
     "iopub.status.busy": "2025-10-27T01:11:50.923049Z",
     "iopub.status.idle": "2025-10-27T01:11:50.933792Z",
     "shell.execute_reply": "2025-10-27T01:11:50.932995Z"
    },
    "papermill": {
     "duration": 0.020682,
     "end_time": "2025-10-27T01:11:50.935306",
     "exception": false,
     "start_time": "2025-10-27T01:11:50.914624",
     "status": "completed"
    },
    "tags": []
   },
   "outputs": [],
   "source": [
    "# apply unquote to keyword\n",
    "df_train['clean_keyword'] = df_train['keyword'].apply(unquote)"
   ]
  },
  {
   "cell_type": "code",
   "execution_count": 10,
   "id": "9be0fa71",
   "metadata": {
    "execution": {
     "iopub.execute_input": "2025-10-27T01:11:50.952403Z",
     "iopub.status.busy": "2025-10-27T01:11:50.951556Z",
     "iopub.status.idle": "2025-10-27T01:11:50.961301Z",
     "shell.execute_reply": "2025-10-27T01:11:50.960108Z"
    },
    "papermill": {
     "duration": 0.019791,
     "end_time": "2025-10-27T01:11:50.962912",
     "exception": false,
     "start_time": "2025-10-27T01:11:50.943121",
     "status": "completed"
    },
    "tags": []
   },
   "outputs": [
    {
     "name": "stdout",
     "output_type": "stream",
     "text": [
      "clean_keyword\n",
      "fatalities    45\n",
      "deluge        42\n",
      "armageddon    42\n",
      "sinking       41\n",
      "damage        41\n",
      "Name: count, dtype: int64\n",
      "--------------------------------------------------\n",
      "clean_keyword\n",
      "forest fire            19\n",
      "epicentre              12\n",
      "threat                 11\n",
      "inundation             10\n",
      "radiation emergency     9\n",
      "Name: count, dtype: int64\n",
      "--------------------------------------------------\n",
      "The total number of unique keywords is: 221\n"
     ]
    }
   ],
   "source": [
    "# get counts of unique keywords\n",
    "keyword_counts = df_train['clean_keyword'].value_counts()\n",
    "unique_count = len(keyword_counts)\n",
    "\n",
    "print(keyword_counts.head())\n",
    "print(\"-\" * 50)\n",
    "print(keyword_counts.tail())\n",
    "print(\"-\" * 50)\n",
    "\n",
    "print(f\"The total number of unique keywords is: {unique_count}\")"
   ]
  },
  {
   "cell_type": "markdown",
   "id": "5e24ecb3",
   "metadata": {
    "papermill": {
     "duration": 0.007893,
     "end_time": "2025-10-27T01:11:50.979194",
     "exception": false,
     "start_time": "2025-10-27T01:11:50.971301",
     "status": "completed"
    },
    "tags": []
   },
   "source": [
    "### Aggregate 'keyword'\n",
    "Aggregating keywords into a 'top N' and 'other' category should help with training the model by reducing dimensionality and complexity by shrinking the number of features the model has to learn from the keyword column.  This should make a simpler, faster model with less risk of overfitting.  "
   ]
  },
  {
   "cell_type": "code",
   "execution_count": 11,
   "id": "590297b6",
   "metadata": {
    "execution": {
     "iopub.execute_input": "2025-10-27T01:11:50.996298Z",
     "iopub.status.busy": "2025-10-27T01:11:50.995951Z",
     "iopub.status.idle": "2025-10-27T01:11:51.009819Z",
     "shell.execute_reply": "2025-10-27T01:11:51.008834Z"
    },
    "papermill": {
     "duration": 0.024461,
     "end_time": "2025-10-27T01:11:51.011511",
     "exception": false,
     "start_time": "2025-10-27T01:11:50.987050",
     "status": "completed"
    },
    "tags": []
   },
   "outputs": [],
   "source": [
    "# Aggregate low-frequency keywords\n",
    "TOP_N = 75\n",
    "keyword_counts = df_train['clean_keyword'].value_counts()\n",
    "top_n_keywords = keyword_counts.nlargest(TOP_N).index.tolist()\n",
    "\n",
    "df_train['agg_keyword'] = np.where(\n",
    "    df_train['clean_keyword'].isin(top_n_keywords),\n",
    "    df_train['clean_keyword'],\n",
    "    'Other'\n",
    ")"
   ]
  },
  {
   "cell_type": "code",
   "execution_count": 12,
   "id": "616fd0ae",
   "metadata": {
    "execution": {
     "iopub.execute_input": "2025-10-27T01:11:51.029464Z",
     "iopub.status.busy": "2025-10-27T01:11:51.028776Z",
     "iopub.status.idle": "2025-10-27T01:11:52.375945Z",
     "shell.execute_reply": "2025-10-27T01:11:52.374875Z"
    },
    "papermill": {
     "duration": 1.358554,
     "end_time": "2025-10-27T01:11:52.378315",
     "exception": false,
     "start_time": "2025-10-27T01:11:51.019761",
     "status": "completed"
    },
    "tags": []
   },
   "outputs": [
    {
     "data": {
      "image/png": "[encoded data removed]",
      "text/plain": [
       "<Figure size 800x1000 with 1 Axes>"
      ]
     },
     "metadata": {},
     "output_type": "display_data"
    }
   ],
   "source": [
    "# Keyword Distribution\n",
    "keyword_counts = df_train['agg_keyword'].value_counts().reset_index()\n",
    "keyword_counts.columns = ['agg_keyword', 'count']\n",
    "keyword_counts = keyword_counts.sort_values(by='count', ascending=False)\n",
    "\n",
    "plt.figure(figsize=(8,10))\n",
    "sns.barplot(x='count', y='agg_keyword', data=keyword_counts)\n",
    "plt.title('Distribution of Keywords')\n",
    "plt.xlabel('Count')\n",
    "plt.xscale('log')\n",
    "plt.ylabel('Keyword')\n",
    "plt.grid(axis='x', alpha=0.5)\n",
    "plt.tight_layout()\n",
    "plt.show()"
   ]
  },
  {
   "cell_type": "code",
   "execution_count": 13,
   "id": "e9cf10fa",
   "metadata": {
    "execution": {
     "iopub.execute_input": "2025-10-27T01:11:52.399454Z",
     "iopub.status.busy": "2025-10-27T01:11:52.399075Z",
     "iopub.status.idle": "2025-10-27T01:11:52.412895Z",
     "shell.execute_reply": "2025-10-27T01:11:52.411774Z"
    },
    "papermill": {
     "duration": 0.026028,
     "end_time": "2025-10-27T01:11:52.414730",
     "exception": false,
     "start_time": "2025-10-27T01:11:52.388702",
     "status": "completed"
    },
    "tags": []
   },
   "outputs": [],
   "source": [
    "# One-hot encode 'agg_keyword' column\n",
    "keyword_dummies = pd.get_dummies(df_train['agg_keyword'], prefix='keyword')\n",
    "\n",
    "df_train = pd.concat([df_train, keyword_dummies], axis=1)\n",
    "\n",
    "df_train.drop(['keyword', 'clean_keyword', 'agg_keyword'], axis=1, inplace=True)"
   ]
  },
  {
   "cell_type": "code",
   "execution_count": 14,
   "id": "67685de4",
   "metadata": {
    "execution": {
     "iopub.execute_input": "2025-10-27T01:11:52.435244Z",
     "iopub.status.busy": "2025-10-27T01:11:52.434882Z",
     "iopub.status.idle": "2025-10-27T01:11:52.450026Z",
     "shell.execute_reply": "2025-10-27T01:11:52.448817Z"
    },
    "papermill": {
     "duration": 0.027574,
     "end_time": "2025-10-27T01:11:52.451801",
     "exception": false,
     "start_time": "2025-10-27T01:11:52.424227",
     "status": "completed"
    },
    "tags": []
   },
   "outputs": [
    {
     "name": "stdout",
     "output_type": "stream",
     "text": [
      "New DataFrame Head (Showing New Keyword Columns)\n",
      "    id                       location  \\\n",
      "31  48                     Birmingham   \n",
      "32  49  Est. September 2012 - Bristol   \n",
      "33  50                         AFRICA   \n",
      "34  52               Philadelphia, PA   \n",
      "35  53                     London, UK   \n",
      "\n",
      "                                                 text  target  \\\n",
      "31  @bbcmtd Wholesale Markets ablaze http://t.co/l...       1   \n",
      "32  We always try to bring the heavy. #metal #RT h...       0   \n",
      "33  #AFRICANBAZE: Breaking news:Nigeria flag set a...       1   \n",
      "34                 Crying out for more! Set me ablaze       0   \n",
      "35  On plus side LOOK AT THE SKY LAST NIGHT IT WAS...       0   \n",
      "\n",
      "                                           clean_text  keyword_Other  \\\n",
      "31                            wholesale market ablaze           True   \n",
      "32                    always try bring heavy metal rt           True   \n",
      "33  africanbaze breaking newsnigeria flag set abla...           True   \n",
      "34                                     cry set ablaze           True   \n",
      "35               plus side look sky last night ablaze           True   \n",
      "\n",
      "    keyword_ambulance  keyword_armageddon  keyword_attack  keyword_bioterror  \\\n",
      "31              False               False           False              False   \n",
      "32              False               False           False              False   \n",
      "33              False               False           False              False   \n",
      "34              False               False           False              False   \n",
      "35              False               False           False              False   \n",
      "\n",
      "    ...  keyword_typhoon  keyword_upheaval  keyword_weapon  keyword_weapons  \\\n",
      "31  ...            False             False           False            False   \n",
      "32  ...            False             False           False            False   \n",
      "33  ...            False             False           False            False   \n",
      "34  ...            False             False           False            False   \n",
      "35  ...            False             False           False            False   \n",
      "\n",
      "    keyword_whirlwind  keyword_windstorm  keyword_wounded  keyword_wreck  \\\n",
      "31              False              False            False          False   \n",
      "32              False              False            False          False   \n",
      "33              False              False            False          False   \n",
      "34              False              False            False          False   \n",
      "35              False              False            False          False   \n",
      "\n",
      "    keyword_wreckage  keyword_wrecked  \n",
      "31             False            False  \n",
      "32             False            False  \n",
      "33             False            False  \n",
      "34             False            False  \n",
      "35             False            False  \n",
      "\n",
      "[5 rows x 81 columns]\n",
      "\n",
      "New DataFrame Shape\n",
      "The new shape (rows, columns) is: (7552, 81)\n"
     ]
    }
   ],
   "source": [
    "print(\"New DataFrame Head (Showing New Keyword Columns)\")\n",
    "print(df_train.head())\n",
    "print(\"\\nNew DataFrame Shape\")\n",
    "print(f\"The new shape (rows, columns) is: {df_train.shape}\")"
   ]
  },
  {
   "cell_type": "markdown",
   "id": "562d0580",
   "metadata": {
    "papermill": {
     "duration": 0.009831,
     "end_time": "2025-10-27T01:11:52.471496",
     "exception": false,
     "start_time": "2025-10-27T01:11:52.461665",
     "status": "completed"
    },
    "tags": []
   },
   "source": [
    "### Preprocessing the 'location' column\n",
    "There are significant data quality issues that need to be addressed before One-hot encoding.  \n",
    "\n",
    "Aliases/Variants of locations like 'USA' and 'United States'.  Non-Locations like 'worldwide' and 'everywhere'.  Foreign Characters that need correction. and single occurances that I will group together as they are unlikely to be predictive."
   ]
  },
  {
   "cell_type": "code",
   "execution_count": 15,
   "id": "545ab745",
   "metadata": {
    "execution": {
     "iopub.execute_input": "2025-10-27T01:11:52.493927Z",
     "iopub.status.busy": "2025-10-27T01:11:52.493622Z",
     "iopub.status.idle": "2025-10-27T01:11:52.500244Z",
     "shell.execute_reply": "2025-10-27T01:11:52.499047Z"
    },
    "papermill": {
     "duration": 0.019296,
     "end_time": "2025-10-27T01:11:52.501972",
     "exception": false,
     "start_time": "2025-10-27T01:11:52.482676",
     "status": "completed"
    },
    "tags": []
   },
   "outputs": [],
   "source": [
    "# create function to accomplish preprocessing steps to 'location'\n",
    "def clean_location(loc):\n",
    "    if loc == 'NONE_PROVIDED':\n",
    "        return loc\n",
    "    try:\n",
    "        loc = loc.encode('latin1').decode('utf8')\n",
    "    except (UnicodeEncodeError, UnicodeDecodeError):\n",
    "        pass\n",
    "        \n",
    "    # lower case and strip whitespace\n",
    "    loc = loc.lower().strip()\n",
    "    \n",
    "    # remove trailing punctuation\n",
    "    loc = loc.strip(string.punctuation)\n",
    "    \n",
    "    # remove numbers and non-alphabetic noise\n",
    "    loc = re.sub(r'[\\d]', '', loc)\n",
    "    loc = re.sub(r'[^\\w\\s,\\-\\']', '', loc)\n",
    "    loc = re.sub(r'\\s+', ' ', loc).strip() # replace multiple spaces\n",
    "\n",
    "    return loc"
   ]
  },
  {
   "cell_type": "code",
   "execution_count": 16,
   "id": "a992c282",
   "metadata": {
    "execution": {
     "iopub.execute_input": "2025-10-27T01:11:52.523452Z",
     "iopub.status.busy": "2025-10-27T01:11:52.522364Z",
     "iopub.status.idle": "2025-10-27T01:11:52.550138Z",
     "shell.execute_reply": "2025-10-27T01:11:52.549024Z"
    },
    "papermill": {
     "duration": 0.04018,
     "end_time": "2025-10-27T01:11:52.551937",
     "exception": false,
     "start_time": "2025-10-27T01:11:52.511757",
     "status": "completed"
    },
    "tags": []
   },
   "outputs": [],
   "source": [
    "# apply the clean_location function to the location column\n",
    "df_train['clean_location'] = df_train['location'].apply(clean_location)"
   ]
  },
  {
   "cell_type": "code",
   "execution_count": 17,
   "id": "7dcfc3c9",
   "metadata": {
    "execution": {
     "iopub.execute_input": "2025-10-27T01:11:52.573600Z",
     "iopub.status.busy": "2025-10-27T01:11:52.573227Z",
     "iopub.status.idle": "2025-10-27T01:11:52.581879Z",
     "shell.execute_reply": "2025-10-27T01:11:52.580811Z"
    },
    "papermill": {
     "duration": 0.021734,
     "end_time": "2025-10-27T01:11:52.583695",
     "exception": false,
     "start_time": "2025-10-27T01:11:52.561961",
     "status": "completed"
    },
    "tags": []
   },
   "outputs": [],
   "source": [
    "# create function to handle the noise and variation in the location column\n",
    "def consolidate_location(loc):\n",
    "    \"\"\"Maps common noise terms and aliases to standard forms.\"\"\"\n",
    "    if loc in ['unknown', '']:\n",
    "        return 'UNKNOWN'\n",
    "\n",
    "    # Common Noise/Junk terms identified during inspection\n",
    "    junk_list = ['worldwide', 'everywhere', 'here', 'the internet', 'my timeline', \n",
    "                 'noplace', 'follow me', 'he/him or she/her (ask)', 'email', \n",
    "                 'facebook', 'twitter', 'ig', 'snapchat', 'link in bio',\n",
    "                'five down from the coffeeshop', 'reddit', 'road to the billionaires club',\n",
    "                'all around the world', 'mad as hell', 'in the word of god',\n",
    "                'narnia', 'planet earth', 'ìït ,', 'ìït ,-','happily married with kids',\n",
    "                'america of founding fathers','taylor swift','theythem','anonymous','upstairs',\n",
    "                ',','httpwwwamazoncomdpbhr','in the shadows','international','the world',\n",
    "                'breaking news','in hell','pedophile hunting ground','neverland','world',\n",
    "                'world wide'] # this list could go on forever.  stopping here.\n",
    "    \n",
    "    if any(j in loc for j in junk_list):\n",
    "        return 'JUNK'\n",
    "\n",
    "    # Consolidate country/city variations\n",
    "    if loc in ['usa', 'united states', 'united states of america', 'us']:\n",
    "        return 'usa'\n",
    "    if loc in ['uk', 'london uk', 'england']:\n",
    "        return 'united kingdom'\n",
    "    if loc in ['new york', 'new york ny', 'ny', 'nyc']:\n",
    "        return 'new york city'\n",
    "    if loc in ['los angeles, ca', 'la']:\n",
    "        return 'los angeles'\n",
    "    if loc in ['ca', 'cali', 'california', 'southern california']:\n",
    "        return 'california'\n",
    "    if loc in ['texas', 'tx', 'republic of texas']:\n",
    "        return 'texas'\n",
    "    \n",
    "    return loc"
   ]
  },
  {
   "cell_type": "code",
   "execution_count": 18,
   "id": "583b09e9",
   "metadata": {
    "execution": {
     "iopub.execute_input": "2025-10-27T01:11:52.606092Z",
     "iopub.status.busy": "2025-10-27T01:11:52.605740Z",
     "iopub.status.idle": "2025-10-27T01:11:52.639242Z",
     "shell.execute_reply": "2025-10-27T01:11:52.638246Z"
    },
    "papermill": {
     "duration": 0.046792,
     "end_time": "2025-10-27T01:11:52.641007",
     "exception": false,
     "start_time": "2025-10-27T01:11:52.594215",
     "status": "completed"
    },
    "tags": []
   },
   "outputs": [],
   "source": [
    "# apply consolidated mapping\n",
    "df_train['standard_location'] = df_train['clean_location'].apply(consolidate_location)"
   ]
  },
  {
   "cell_type": "code",
   "execution_count": 19,
   "id": "530d2b67",
   "metadata": {
    "execution": {
     "iopub.execute_input": "2025-10-27T01:11:52.661957Z",
     "iopub.status.busy": "2025-10-27T01:11:52.661553Z",
     "iopub.status.idle": "2025-10-27T01:11:52.675551Z",
     "shell.execute_reply": "2025-10-27T01:11:52.674293Z"
    },
    "papermill": {
     "duration": 0.026484,
     "end_time": "2025-10-27T01:11:52.677443",
     "exception": false,
     "start_time": "2025-10-27T01:11:52.650959",
     "status": "completed"
    },
    "tags": []
   },
   "outputs": [],
   "source": [
    "# Aggregate low frequency locations\n",
    "TOP_N_LOCATIONS = 200\n",
    "\n",
    "location_counts = df_train['standard_location'].value_counts()\n",
    "top_n_locations = location_counts.nlargest(TOP_N_LOCATIONS).index.tolist()\n",
    "\n",
    "df_train['agg_location'] = np.where(\n",
    "    df_train['standard_location'].isin(top_n_locations),\n",
    "    df_train['standard_location'],\n",
    "    'UNKNOWN'\n",
    ")"
   ]
  },
  {
   "cell_type": "code",
   "execution_count": 20,
   "id": "1eb49f46",
   "metadata": {
    "execution": {
     "iopub.execute_input": "2025-10-27T01:11:52.698761Z",
     "iopub.status.busy": "2025-10-27T01:11:52.698417Z",
     "iopub.status.idle": "2025-10-27T01:11:52.710826Z",
     "shell.execute_reply": "2025-10-27T01:11:52.709628Z"
    },
    "papermill": {
     "duration": 0.025106,
     "end_time": "2025-10-27T01:11:52.712426",
     "exception": false,
     "start_time": "2025-10-27T01:11:52.687320",
     "status": "completed"
    },
    "tags": []
   },
   "outputs": [
    {
     "name": "stdout",
     "output_type": "stream",
     "text": [
      "\n",
      "Aggregated to 200 features.\n",
      "aggregated location feature unique counts:\n",
      "agg_location\n",
      "NONE_PROVIDED    2472\n",
      "JUNK             2201\n",
      "UNKNOWN          1581\n",
      "usa               173\n",
      "new york city     110\n",
      "Name: count, dtype: int64\n"
     ]
    }
   ],
   "source": [
    "final_unique_count = df_train['agg_location'].nunique()\n",
    "print(f\"\\nAggregated to {final_unique_count} features.\")\n",
    "print(f\"aggregated location feature unique counts:\")\n",
    "print(df_train['agg_location'].value_counts().head(5))\n",
    "\n",
    "# Drop intermediate columns\n",
    "df_train.drop(['location', 'clean_location', 'standard_location'], axis=1, inplace=True)\n",
    "\n",
    "#print(df_train['agg_location'].unique().tolist())"
   ]
  },
  {
   "cell_type": "code",
   "execution_count": 21,
   "id": "c14306e0",
   "metadata": {
    "execution": {
     "iopub.execute_input": "2025-10-27T01:11:52.734197Z",
     "iopub.status.busy": "2025-10-27T01:11:52.733833Z",
     "iopub.status.idle": "2025-10-27T01:11:52.747571Z",
     "shell.execute_reply": "2025-10-27T01:11:52.746418Z"
    },
    "papermill": {
     "duration": 0.026974,
     "end_time": "2025-10-27T01:11:52.749567",
     "exception": false,
     "start_time": "2025-10-27T01:11:52.722593",
     "status": "completed"
    },
    "tags": []
   },
   "outputs": [],
   "source": [
    "location_dummies = pd.get_dummies(df_train['agg_location'], prefix='agg_location')\n",
    "\n",
    "df_train = pd.concat([df_train, location_dummies], axis =1)\n",
    "\n",
    "df_train.drop('agg_location', axis =1, inplace=True)"
   ]
  },
  {
   "cell_type": "code",
   "execution_count": 22,
   "id": "c51d6fd0",
   "metadata": {
    "execution": {
     "iopub.execute_input": "2025-10-27T01:11:52.771281Z",
     "iopub.status.busy": "2025-10-27T01:11:52.770933Z",
     "iopub.status.idle": "2025-10-27T01:11:52.784617Z",
     "shell.execute_reply": "2025-10-27T01:11:52.783383Z"
    },
    "papermill": {
     "duration": 0.026762,
     "end_time": "2025-10-27T01:11:52.786284",
     "exception": false,
     "start_time": "2025-10-27T01:11:52.759522",
     "status": "completed"
    },
    "tags": []
   },
   "outputs": [
    {
     "name": "stdout",
     "output_type": "stream",
     "text": [
      "New DataFrame Head (Showing New Location Columns)\n",
      "    id                                               text  target  \\\n",
      "31  48  @bbcmtd Wholesale Markets ablaze http://t.co/l...       1   \n",
      "32  49  We always try to bring the heavy. #metal #RT h...       0   \n",
      "33  50  #AFRICANBAZE: Breaking news:Nigeria flag set a...       1   \n",
      "34  52                 Crying out for more! Set me ablaze       0   \n",
      "35  53  On plus side LOOK AT THE SKY LAST NIGHT IT WAS...       0   \n",
      "\n",
      "                                           clean_text  keyword_Other  \\\n",
      "31                            wholesale market ablaze           True   \n",
      "32                    always try bring heavy metal rt           True   \n",
      "33  africanbaze breaking newsnigeria flag set abla...           True   \n",
      "34                                     cry set ablaze           True   \n",
      "35               plus side look sky last night ablaze           True   \n",
      "\n",
      "    keyword_ambulance  keyword_armageddon  keyword_attack  keyword_bioterror  \\\n",
      "31              False               False           False              False   \n",
      "32              False               False           False              False   \n",
      "33              False               False           False              False   \n",
      "34              False               False           False              False   \n",
      "35              False               False           False              False   \n",
      "\n",
      "    keyword_blaze  ...  agg_location_utah  agg_location_vancouver bc  \\\n",
      "31          False  ...              False                      False   \n",
      "32          False  ...              False                      False   \n",
      "33          False  ...              False                      False   \n",
      "34          False  ...              False                      False   \n",
      "35          False  ...              False                      False   \n",
      "\n",
      "    agg_location_venezuela  agg_location_virginia  agg_location_wa state  \\\n",
      "31                   False                  False                  False   \n",
      "32                   False                  False                  False   \n",
      "33                   False                  False                  False   \n",
      "34                   False                  False                  False   \n",
      "35                   False                  False                  False   \n",
      "\n",
      "    agg_location_washington  agg_location_washington dc  \\\n",
      "31                    False                       False   \n",
      "32                    False                       False   \n",
      "33                    False                       False   \n",
      "34                    False                       False   \n",
      "35                    False                       False   \n",
      "\n",
      "    agg_location_washington state  agg_location_west  agg_location_wisconsin  \n",
      "31                          False              False                   False  \n",
      "32                          False              False                   False  \n",
      "33                          False              False                   False  \n",
      "34                          False              False                   False  \n",
      "35                          False              False                   False  \n",
      "\n",
      "[5 rows x 280 columns]\n",
      "\n",
      "New DataFrame Shape\n",
      "(7552, 280)\n"
     ]
    }
   ],
   "source": [
    "print(\"New DataFrame Head (Showing New Location Columns)\")\n",
    "print(df_train.head())\n",
    "print(\"\\nNew DataFrame Shape\")\n",
    "print(df_train.shape)"
   ]
  },
  {
   "cell_type": "markdown",
   "id": "c4ad7457",
   "metadata": {
    "papermill": {
     "duration": 0.009669,
     "end_time": "2025-10-27T01:11:52.805847",
     "exception": false,
     "start_time": "2025-10-27T01:11:52.796178",
     "status": "completed"
    },
    "tags": []
   },
   "source": [
    "## Model Architecture and Training\n",
    "Describe model architecture and reasoning for why it is suitable for this problem.  \n",
    "\n",
    "Include reference list for NLP-specific tutorials/discussion boards/code examples.  Methods to process texts to matrix form include: TF-IDF, GloVe, Word2Vec, etc.  Briefly explain the method and how they work.  \n",
    "\n",
    "Build and train a sequential neural network model (any RNN family nn, including advanced architectures LSTM, GRU, bidirectional RNN, etc)."
   ]
  },
  {
   "cell_type": "markdown",
   "id": "4ace2fe4",
   "metadata": {
    "papermill": {
     "duration": 0.009744,
     "end_time": "2025-10-27T01:11:52.825676",
     "exception": false,
     "start_time": "2025-10-27T01:11:52.815932",
     "status": "completed"
    },
    "tags": []
   },
   "source": [
    "### Text Vectorization and Word Embedding\n",
    "There are two components we'll use to transform the text: Keras's Tokenizer to convert the text to a sequence of integers and a Keras embedding layer for processing the text.  \n",
    "\n",
    "Keras's Tokenizer scans the entire 'clean_text', assigns a unique integer to every unique word, then converts each tweet into a sequence of those integers.\n",
    "\n",
    "The Keras Embedding layer is initialized randomly and then learns a unique dense vector for every word in the vocabulary in training.  An advantage of this method vs GloVe or Word2Vec is that this process is simple and requires no external files."
   ]
  },
  {
   "cell_type": "code",
   "execution_count": 23,
   "id": "e7b2e0b2",
   "metadata": {
    "execution": {
     "iopub.execute_input": "2025-10-27T01:11:52.847284Z",
     "iopub.status.busy": "2025-10-27T01:11:52.846486Z",
     "iopub.status.idle": "2025-10-27T01:12:10.664245Z",
     "shell.execute_reply": "2025-10-27T01:12:10.663196Z"
    },
    "papermill": {
     "duration": 17.830585,
     "end_time": "2025-10-27T01:12:10.666041",
     "exception": false,
     "start_time": "2025-10-27T01:11:52.835456",
     "status": "completed"
    },
    "tags": []
   },
   "outputs": [
    {
     "name": "stderr",
     "output_type": "stream",
     "text": [
      "2025-10-27 01:11:54.897991: E external/local_xla/xla/stream_executor/cuda/cuda_fft.cc:477] Unable to register cuFFT factory: Attempting to register factory for plugin cuFFT when one has already been registered\n",
      "WARNING: All log messages before absl::InitializeLog() is called are written to STDERR\n",
      "E0000 00:00:1761527515.157223      13 cuda_dnn.cc:8310] Unable to register cuDNN factory: Attempting to register factory for plugin cuDNN when one has already been registered\n",
      "E0000 00:00:1761527515.229131      13 cuda_blas.cc:1418] Unable to register cuBLAS factory: Attempting to register factory for plugin cuBLAS when one has already been registered\n"
     ]
    }
   ],
   "source": [
    "import tensorflow as tf\n",
    "from tensorflow.keras.models import Sequential\n",
    "from tensorflow.keras.layers import Embedding, Bidirectional, LSTM, Dense, Dropout, Concatenate\n",
    "from tensorflow.keras.preprocessing.text import Tokenizer\n",
    "from tensorflow.keras.preprocessing.sequence import pad_sequences\n",
    "from sklearn.model_selection import train_test_split\n",
    "from sklearn.preprocessing import LabelEncoder"
   ]
  },
  {
   "cell_type": "code",
   "execution_count": 24,
   "id": "9edc6c69",
   "metadata": {
    "execution": {
     "iopub.execute_input": "2025-10-27T01:12:10.688542Z",
     "iopub.status.busy": "2025-10-27T01:12:10.687515Z",
     "iopub.status.idle": "2025-10-27T01:12:10.916440Z",
     "shell.execute_reply": "2025-10-27T01:12:10.915309Z"
    },
    "papermill": {
     "duration": 0.241894,
     "end_time": "2025-10-27T01:12:10.918192",
     "exception": false,
     "start_time": "2025-10-27T01:12:10.676298",
     "status": "completed"
    },
    "tags": []
   },
   "outputs": [],
   "source": [
    "TEXT_COLUMN = 'clean_text'\n",
    "TARGET_COLUMN = 'target'\n",
    "\n",
    "categorical_cols = [col for col in df_train.columns if col.startswith('location_') or col.startswith('keyword_')]\n",
    "X_cat = df_train[categorical_cols].values\n",
    "Y = df_train[TARGET_COLUMN].values\n",
    "\n",
    "MAX_WORDS = 10000  # Only consider the top 10,000 words\n",
    "MAX_LEN = 50       # Pad/truncate sequences to a fixed length of 50\n",
    "\n",
    "tokenizer = Tokenizer(num_words=MAX_WORDS, oov_token=\"<OOV>\")\n",
    "tokenizer.fit_on_texts(df_train[TEXT_COLUMN])\n",
    "word_index = tokenizer.word_index\n",
    "\n",
    "# Convert text to sequences and pad them\n",
    "sequences = tokenizer.texts_to_sequences(df_train[TEXT_COLUMN])\n",
    "X_text = pad_sequences(sequences, maxlen=MAX_LEN, padding='post', truncating='post')\n",
    "\n",
    "# Split the dataset into training and validation sets\n",
    "X_text_train, X_text_val, X_cat_train, X_cat_val, Y_train, Y_val = train_test_split(\n",
    "    X_text, X_cat, Y, test_size=0.2, random_state=0, stratify=Y\n",
    ")"
   ]
  },
  {
   "cell_type": "markdown",
   "id": "8fefdbbb",
   "metadata": {
    "papermill": {
     "duration": 0.011171,
     "end_time": "2025-10-27T01:12:10.944592",
     "exception": false,
     "start_time": "2025-10-27T01:12:10.933421",
     "status": "completed"
    },
    "tags": []
   },
   "source": [
    "### Model Architecture\n",
    "We're using a Bidirectional LSTM (Bi-LSTM) network.  \n",
    "\n",
    "LSTMs are a type of RNN designed to overcome the vanishing gradient problem, making them excellent at learning long term dependencies in sequence data (like text).\n",
    "\n",
    "Bidirectional LSTM means that the tweet is processed twice.  One time running from beginning to end, and another from the end to the beginning.  The outputs are combined.\n",
    "\n",
    "For text classification, knowing the context that follows a word can be as important as the context that precedes it and this method attempts to capture that."
   ]
  },
  {
   "cell_type": "code",
   "execution_count": 25,
   "id": "62b2ed12",
   "metadata": {
    "execution": {
     "iopub.execute_input": "2025-10-27T01:12:10.966208Z",
     "iopub.status.busy": "2025-10-27T01:12:10.965858Z",
     "iopub.status.idle": "2025-10-27T01:12:11.164731Z",
     "shell.execute_reply": "2025-10-27T01:12:11.163683Z"
    },
    "papermill": {
     "duration": 0.211726,
     "end_time": "2025-10-27T01:12:11.166372",
     "exception": false,
     "start_time": "2025-10-27T01:12:10.954646",
     "status": "completed"
    },
    "tags": []
   },
   "outputs": [
    {
     "name": "stderr",
     "output_type": "stream",
     "text": [
      "2025-10-27 01:12:10.976020: E external/local_xla/xla/stream_executor/cuda/cuda_driver.cc:152] failed call to cuInit: INTERNAL: CUDA error: Failed call to cuInit: UNKNOWN ERROR (303)\n"
     ]
    }
   ],
   "source": [
    "# Build the Bi-LSTM Model Architecture\n",
    "\n",
    "EMBEDDING_DIM = 100\n",
    "VOCAB_SIZE = min(len(word_index) + 1, MAX_WORDS)\n",
    "NUM_CATEGORICAL_FEATURES = X_cat_train.shape[1] # Number of one-hot encoded features\n",
    "\n",
    "# Text Input Branch (RNN)\n",
    "text_input = tf.keras.Input(shape=(MAX_LEN,), name='text_input')\n",
    "x = Embedding(VOCAB_SIZE, EMBEDDING_DIM)(text_input)\n",
    "x = Bidirectional(LSTM(64, return_sequences=False))(x) # 64 units, returns only the final output\n",
    "x = Dense(32, activation='relu')(x)\n",
    "x = Dropout(0.5)(x)\n",
    "text_output = x\n",
    "\n",
    "# Categorical Input Branch (Dense Network)\n",
    "cat_input = tf.keras.Input(shape=(NUM_CATEGORICAL_FEATURES,), name='cat_input')\n",
    "y = Dense(16, activation='relu')(cat_input) # Simple dense layer for categorical features\n",
    "cat_output = y\n",
    "\n",
    "# Merge Branches\n",
    "# Concatenate the output of the text branch and the categorical branch\n",
    "merged = Concatenate()([text_output, cat_output])\n",
    "\n",
    "# Final Output Layer\n",
    "z = Dense(16, activation='relu')(merged)\n",
    "z = Dropout(0.5)(z)\n",
    "output = Dense(1, activation='sigmoid')(z) # Sigmoid for binary classification\n",
    "\n",
    "# Create Model\n",
    "model = tf.keras.Model(inputs=[text_input, cat_input], outputs=output)"
   ]
  },
  {
   "cell_type": "code",
   "execution_count": 26,
   "id": "414549b4",
   "metadata": {
    "execution": {
     "iopub.execute_input": "2025-10-27T01:12:11.187666Z",
     "iopub.status.busy": "2025-10-27T01:12:11.187260Z",
     "iopub.status.idle": "2025-10-27T01:13:48.040997Z",
     "shell.execute_reply": "2025-10-27T01:13:48.039827Z"
    },
    "papermill": {
     "duration": 96.866667,
     "end_time": "2025-10-27T01:13:48.042837",
     "exception": false,
     "start_time": "2025-10-27T01:12:11.176170",
     "status": "completed"
    },
    "tags": []
   },
   "outputs": [
    {
     "data": {
      "text/html": [
       "<pre style=\"white-space:pre;overflow-x:auto;line-height:normal;font-family:Menlo,'DejaVu Sans Mono',consolas,'Courier New',monospace\"><span style=\"font-weight: bold\">Model: \"functional\"</span>\n",
       "</pre>\n"
      ],
      "text/plain": [
       "\u001b[1mModel: \"functional\"\u001b[0m\n"
      ]
     },
     "metadata": {},
     "output_type": "display_data"
    },
    {
     "data": {
      "text/html": [
       "<pre style=\"white-space:pre;overflow-x:auto;line-height:normal;font-family:Menlo,'DejaVu Sans Mono',consolas,'Courier New',monospace\">┏━━━━━━━━━━━━━━━━━━━━━┳━━━━━━━━━━━━━━━━━━━┳━━━━━━━━━━━━┳━━━━━━━━━━━━━━━━━━━┓\n",
       "┃<span style=\"font-weight: bold\"> Layer (type)        </span>┃<span style=\"font-weight: bold\"> Output Shape      </span>┃<span style=\"font-weight: bold\">    Param # </span>┃<span style=\"font-weight: bold\"> Connected to      </span>┃\n",
       "┡━━━━━━━━━━━━━━━━━━━━━╇━━━━━━━━━━━━━━━━━━━╇━━━━━━━━━━━━╇━━━━━━━━━━━━━━━━━━━┩\n",
       "│ text_input          │ (<span style=\"color: #00d7ff; text-decoration-color: #00d7ff\">None</span>, <span style=\"color: #00af00; text-decoration-color: #00af00\">50</span>)        │          <span style=\"color: #00af00; text-decoration-color: #00af00\">0</span> │ -                 │\n",
       "│ (<span style=\"color: #0087ff; text-decoration-color: #0087ff\">InputLayer</span>)        │                   │            │                   │\n",
       "├─────────────────────┼───────────────────┼────────────┼───────────────────┤\n",
       "│ embedding           │ (<span style=\"color: #00d7ff; text-decoration-color: #00d7ff\">None</span>, <span style=\"color: #00af00; text-decoration-color: #00af00\">50</span>, <span style=\"color: #00af00; text-decoration-color: #00af00\">100</span>)   │  <span style=\"color: #00af00; text-decoration-color: #00af00\">1,000,000</span> │ text_input[<span style=\"color: #00af00; text-decoration-color: #00af00\">0</span>][<span style=\"color: #00af00; text-decoration-color: #00af00\">0</span>]  │\n",
       "│ (<span style=\"color: #0087ff; text-decoration-color: #0087ff\">Embedding</span>)         │                   │            │                   │\n",
       "├─────────────────────┼───────────────────┼────────────┼───────────────────┤\n",
       "│ bidirectional       │ (<span style=\"color: #00d7ff; text-decoration-color: #00d7ff\">None</span>, <span style=\"color: #00af00; text-decoration-color: #00af00\">128</span>)       │     <span style=\"color: #00af00; text-decoration-color: #00af00\">84,480</span> │ embedding[<span style=\"color: #00af00; text-decoration-color: #00af00\">0</span>][<span style=\"color: #00af00; text-decoration-color: #00af00\">0</span>]   │\n",
       "│ (<span style=\"color: #0087ff; text-decoration-color: #0087ff\">Bidirectional</span>)     │                   │            │                   │\n",
       "├─────────────────────┼───────────────────┼────────────┼───────────────────┤\n",
       "│ dense (<span style=\"color: #0087ff; text-decoration-color: #0087ff\">Dense</span>)       │ (<span style=\"color: #00d7ff; text-decoration-color: #00d7ff\">None</span>, <span style=\"color: #00af00; text-decoration-color: #00af00\">32</span>)        │      <span style=\"color: #00af00; text-decoration-color: #00af00\">4,128</span> │ bidirectional[<span style=\"color: #00af00; text-decoration-color: #00af00\">0</span>]… │\n",
       "├─────────────────────┼───────────────────┼────────────┼───────────────────┤\n",
       "│ cat_input           │ (<span style=\"color: #00d7ff; text-decoration-color: #00d7ff\">None</span>, <span style=\"color: #00af00; text-decoration-color: #00af00\">76</span>)        │          <span style=\"color: #00af00; text-decoration-color: #00af00\">0</span> │ -                 │\n",
       "│ (<span style=\"color: #0087ff; text-decoration-color: #0087ff\">InputLayer</span>)        │                   │            │                   │\n",
       "├─────────────────────┼───────────────────┼────────────┼───────────────────┤\n",
       "│ dropout (<span style=\"color: #0087ff; text-decoration-color: #0087ff\">Dropout</span>)   │ (<span style=\"color: #00d7ff; text-decoration-color: #00d7ff\">None</span>, <span style=\"color: #00af00; text-decoration-color: #00af00\">32</span>)        │          <span style=\"color: #00af00; text-decoration-color: #00af00\">0</span> │ dense[<span style=\"color: #00af00; text-decoration-color: #00af00\">0</span>][<span style=\"color: #00af00; text-decoration-color: #00af00\">0</span>]       │\n",
       "├─────────────────────┼───────────────────┼────────────┼───────────────────┤\n",
       "│ dense_1 (<span style=\"color: #0087ff; text-decoration-color: #0087ff\">Dense</span>)     │ (<span style=\"color: #00d7ff; text-decoration-color: #00d7ff\">None</span>, <span style=\"color: #00af00; text-decoration-color: #00af00\">16</span>)        │      <span style=\"color: #00af00; text-decoration-color: #00af00\">1,232</span> │ cat_input[<span style=\"color: #00af00; text-decoration-color: #00af00\">0</span>][<span style=\"color: #00af00; text-decoration-color: #00af00\">0</span>]   │\n",
       "├─────────────────────┼───────────────────┼────────────┼───────────────────┤\n",
       "│ concatenate         │ (<span style=\"color: #00d7ff; text-decoration-color: #00d7ff\">None</span>, <span style=\"color: #00af00; text-decoration-color: #00af00\">48</span>)        │          <span style=\"color: #00af00; text-decoration-color: #00af00\">0</span> │ dropout[<span style=\"color: #00af00; text-decoration-color: #00af00\">0</span>][<span style=\"color: #00af00; text-decoration-color: #00af00\">0</span>],    │\n",
       "│ (<span style=\"color: #0087ff; text-decoration-color: #0087ff\">Concatenate</span>)       │                   │            │ dense_1[<span style=\"color: #00af00; text-decoration-color: #00af00\">0</span>][<span style=\"color: #00af00; text-decoration-color: #00af00\">0</span>]     │\n",
       "├─────────────────────┼───────────────────┼────────────┼───────────────────┤\n",
       "│ dense_2 (<span style=\"color: #0087ff; text-decoration-color: #0087ff\">Dense</span>)     │ (<span style=\"color: #00d7ff; text-decoration-color: #00d7ff\">None</span>, <span style=\"color: #00af00; text-decoration-color: #00af00\">16</span>)        │        <span style=\"color: #00af00; text-decoration-color: #00af00\">784</span> │ concatenate[<span style=\"color: #00af00; text-decoration-color: #00af00\">0</span>][<span style=\"color: #00af00; text-decoration-color: #00af00\">0</span>] │\n",
       "├─────────────────────┼───────────────────┼────────────┼───────────────────┤\n",
       "│ dropout_1 (<span style=\"color: #0087ff; text-decoration-color: #0087ff\">Dropout</span>) │ (<span style=\"color: #00d7ff; text-decoration-color: #00d7ff\">None</span>, <span style=\"color: #00af00; text-decoration-color: #00af00\">16</span>)        │          <span style=\"color: #00af00; text-decoration-color: #00af00\">0</span> │ dense_2[<span style=\"color: #00af00; text-decoration-color: #00af00\">0</span>][<span style=\"color: #00af00; text-decoration-color: #00af00\">0</span>]     │\n",
       "├─────────────────────┼───────────────────┼────────────┼───────────────────┤\n",
       "│ dense_3 (<span style=\"color: #0087ff; text-decoration-color: #0087ff\">Dense</span>)     │ (<span style=\"color: #00d7ff; text-decoration-color: #00d7ff\">None</span>, <span style=\"color: #00af00; text-decoration-color: #00af00\">1</span>)         │         <span style=\"color: #00af00; text-decoration-color: #00af00\">17</span> │ dropout_1[<span style=\"color: #00af00; text-decoration-color: #00af00\">0</span>][<span style=\"color: #00af00; text-decoration-color: #00af00\">0</span>]   │\n",
       "└─────────────────────┴───────────────────┴────────────┴───────────────────┘\n",
       "</pre>\n"
      ],
      "text/plain": [
       "┏━━━━━━━━━━━━━━━━━━━━━┳━━━━━━━━━━━━━━━━━━━┳━━━━━━━━━━━━┳━━━━━━━━━━━━━━━━━━━┓\n",
       "┃\u001b[1m \u001b[0m\u001b[1mLayer (type)       \u001b[0m\u001b[1m \u001b[0m┃\u001b[1m \u001b[0m\u001b[1mOutput Shape     \u001b[0m\u001b[1m \u001b[0m┃\u001b[1m \u001b[0m\u001b[1m   Param #\u001b[0m\u001b[1m \u001b[0m┃\u001b[1m \u001b[0m\u001b[1mConnected to     \u001b[0m\u001b[1m \u001b[0m┃\n",
       "┡━━━━━━━━━━━━━━━━━━━━━╇━━━━━━━━━━━━━━━━━━━╇━━━━━━━━━━━━╇━━━━━━━━━━━━━━━━━━━┩\n",
       "│ text_input          │ (\u001b[38;5;45mNone\u001b[0m, \u001b[38;5;34m50\u001b[0m)        │          \u001b[38;5;34m0\u001b[0m │ -                 │\n",
       "│ (\u001b[38;5;33mInputLayer\u001b[0m)        │                   │            │                   │\n",
       "├─────────────────────┼───────────────────┼────────────┼───────────────────┤\n",
       "│ embedding           │ (\u001b[38;5;45mNone\u001b[0m, \u001b[38;5;34m50\u001b[0m, \u001b[38;5;34m100\u001b[0m)   │  \u001b[38;5;34m1,000,000\u001b[0m │ text_input[\u001b[38;5;34m0\u001b[0m][\u001b[38;5;34m0\u001b[0m]  │\n",
       "│ (\u001b[38;5;33mEmbedding\u001b[0m)         │                   │            │                   │\n",
       "├─────────────────────┼───────────────────┼────────────┼───────────────────┤\n",
       "│ bidirectional       │ (\u001b[38;5;45mNone\u001b[0m, \u001b[38;5;34m128\u001b[0m)       │     \u001b[38;5;34m84,480\u001b[0m │ embedding[\u001b[38;5;34m0\u001b[0m][\u001b[38;5;34m0\u001b[0m]   │\n",
       "│ (\u001b[38;5;33mBidirectional\u001b[0m)     │                   │            │                   │\n",
       "├─────────────────────┼───────────────────┼────────────┼───────────────────┤\n",
       "│ dense (\u001b[38;5;33mDense\u001b[0m)       │ (\u001b[38;5;45mNone\u001b[0m, \u001b[38;5;34m32\u001b[0m)        │      \u001b[38;5;34m4,128\u001b[0m │ bidirectional[\u001b[38;5;34m0\u001b[0m]… │\n",
       "├─────────────────────┼───────────────────┼────────────┼───────────────────┤\n",
       "│ cat_input           │ (\u001b[38;5;45mNone\u001b[0m, \u001b[38;5;34m76\u001b[0m)        │          \u001b[38;5;34m0\u001b[0m │ -                 │\n",
       "│ (\u001b[38;5;33mInputLayer\u001b[0m)        │                   │            │                   │\n",
       "├─────────────────────┼───────────────────┼────────────┼───────────────────┤\n",
       "│ dropout (\u001b[38;5;33mDropout\u001b[0m)   │ (\u001b[38;5;45mNone\u001b[0m, \u001b[38;5;34m32\u001b[0m)        │          \u001b[38;5;34m0\u001b[0m │ dense[\u001b[38;5;34m0\u001b[0m][\u001b[38;5;34m0\u001b[0m]       │\n",
       "├─────────────────────┼───────────────────┼────────────┼───────────────────┤\n",
       "│ dense_1 (\u001b[38;5;33mDense\u001b[0m)     │ (\u001b[38;5;45mNone\u001b[0m, \u001b[38;5;34m16\u001b[0m)        │      \u001b[38;5;34m1,232\u001b[0m │ cat_input[\u001b[38;5;34m0\u001b[0m][\u001b[38;5;34m0\u001b[0m]   │\n",
       "├─────────────────────┼───────────────────┼────────────┼───────────────────┤\n",
       "│ concatenate         │ (\u001b[38;5;45mNone\u001b[0m, \u001b[38;5;34m48\u001b[0m)        │          \u001b[38;5;34m0\u001b[0m │ dropout[\u001b[38;5;34m0\u001b[0m][\u001b[38;5;34m0\u001b[0m],    │\n",
       "│ (\u001b[38;5;33mConcatenate\u001b[0m)       │                   │            │ dense_1[\u001b[38;5;34m0\u001b[0m][\u001b[38;5;34m0\u001b[0m]     │\n",
       "├─────────────────────┼───────────────────┼────────────┼───────────────────┤\n",
       "│ dense_2 (\u001b[38;5;33mDense\u001b[0m)     │ (\u001b[38;5;45mNone\u001b[0m, \u001b[38;5;34m16\u001b[0m)        │        \u001b[38;5;34m784\u001b[0m │ concatenate[\u001b[38;5;34m0\u001b[0m][\u001b[38;5;34m0\u001b[0m] │\n",
       "├─────────────────────┼───────────────────┼────────────┼───────────────────┤\n",
       "│ dropout_1 (\u001b[38;5;33mDropout\u001b[0m) │ (\u001b[38;5;45mNone\u001b[0m, \u001b[38;5;34m16\u001b[0m)        │          \u001b[38;5;34m0\u001b[0m │ dense_2[\u001b[38;5;34m0\u001b[0m][\u001b[38;5;34m0\u001b[0m]     │\n",
       "├─────────────────────┼───────────────────┼────────────┼───────────────────┤\n",
       "│ dense_3 (\u001b[38;5;33mDense\u001b[0m)     │ (\u001b[38;5;45mNone\u001b[0m, \u001b[38;5;34m1\u001b[0m)         │         \u001b[38;5;34m17\u001b[0m │ dropout_1[\u001b[38;5;34m0\u001b[0m][\u001b[38;5;34m0\u001b[0m]   │\n",
       "└─────────────────────┴───────────────────┴────────────┴───────────────────┘\n"
      ]
     },
     "metadata": {},
     "output_type": "display_data"
    },
    {
     "data": {
      "text/html": [
       "<pre style=\"white-space:pre;overflow-x:auto;line-height:normal;font-family:Menlo,'DejaVu Sans Mono',consolas,'Courier New',monospace\"><span style=\"font-weight: bold\"> Total params: </span><span style=\"color: #00af00; text-decoration-color: #00af00\">1,090,641</span> (4.16 MB)\n",
       "</pre>\n"
      ],
      "text/plain": [
       "\u001b[1m Total params: \u001b[0m\u001b[38;5;34m1,090,641\u001b[0m (4.16 MB)\n"
      ]
     },
     "metadata": {},
     "output_type": "display_data"
    },
    {
     "data": {
      "text/html": [
       "<pre style=\"white-space:pre;overflow-x:auto;line-height:normal;font-family:Menlo,'DejaVu Sans Mono',consolas,'Courier New',monospace\"><span style=\"font-weight: bold\"> Trainable params: </span><span style=\"color: #00af00; text-decoration-color: #00af00\">1,090,641</span> (4.16 MB)\n",
       "</pre>\n"
      ],
      "text/plain": [
       "\u001b[1m Trainable params: \u001b[0m\u001b[38;5;34m1,090,641\u001b[0m (4.16 MB)\n"
      ]
     },
     "metadata": {},
     "output_type": "display_data"
    },
    {
     "data": {
      "text/html": [
       "<pre style=\"white-space:pre;overflow-x:auto;line-height:normal;font-family:Menlo,'DejaVu Sans Mono',consolas,'Courier New',monospace\"><span style=\"font-weight: bold\"> Non-trainable params: </span><span style=\"color: #00af00; text-decoration-color: #00af00\">0</span> (0.00 B)\n",
       "</pre>\n"
      ],
      "text/plain": [
       "\u001b[1m Non-trainable params: \u001b[0m\u001b[38;5;34m0\u001b[0m (0.00 B)\n"
      ]
     },
     "metadata": {},
     "output_type": "display_data"
    },
    {
     "name": "stdout",
     "output_type": "stream",
     "text": [
      "None\n",
      "Epoch 1/20\n",
      "\u001b[1m189/189\u001b[0m \u001b[32m━━━━━━━━━━━━━━━━━━━━\u001b[0m\u001b[37m\u001b[0m \u001b[1m17s\u001b[0m 47ms/step - accuracy: 0.5654 - loss: 0.6867 - precision: 0.4742 - recall: 0.1249 - val_accuracy: 0.5725 - val_loss: 0.6770 - val_precision: 0.0000e+00 - val_recall: 0.0000e+00\n",
      "Epoch 2/20\n",
      "\u001b[1m189/189\u001b[0m \u001b[32m━━━━━━━━━━━━━━━━━━━━\u001b[0m\u001b[37m\u001b[0m \u001b[1m8s\u001b[0m 42ms/step - accuracy: 0.5662 - loss: 0.6773 - precision: 0.4819 - recall: 0.0538 - val_accuracy: 0.5804 - val_loss: 0.6511 - val_precision: 0.8750 - val_recall: 0.0217\n",
      "Epoch 3/20\n",
      "\u001b[1m189/189\u001b[0m \u001b[32m━━━━━━━━━━━━━━━━━━━━\u001b[0m\u001b[37m\u001b[0m \u001b[1m8s\u001b[0m 42ms/step - accuracy: 0.6347 - loss: 0.6430 - precision: 0.7221 - recall: 0.2070 - val_accuracy: 0.7545 - val_loss: 0.5693 - val_precision: 0.8873 - val_recall: 0.4876\n",
      "Epoch 4/20\n",
      "\u001b[1m189/189\u001b[0m \u001b[32m━━━━━━━━━━━━━━━━━━━━\u001b[0m\u001b[37m\u001b[0m \u001b[1m8s\u001b[0m 42ms/step - accuracy: 0.7449 - loss: 0.5321 - precision: 0.8232 - recall: 0.5100 - val_accuracy: 0.8074 - val_loss: 0.4840 - val_precision: 0.8557 - val_recall: 0.6610\n",
      "Epoch 5/20\n",
      "\u001b[1m189/189\u001b[0m \u001b[32m━━━━━━━━━━━━━━━━━━━━\u001b[0m\u001b[37m\u001b[0m \u001b[1m8s\u001b[0m 41ms/step - accuracy: 0.8124 - loss: 0.4470 - precision: 0.8505 - recall: 0.6854 - val_accuracy: 0.8015 - val_loss: 0.4745 - val_precision: 0.8314 - val_recall: 0.6718\n",
      "Epoch 6/20\n",
      "\u001b[1m189/189\u001b[0m \u001b[32m━━━━━━━━━━━━━━━━━━━━\u001b[0m\u001b[37m\u001b[0m \u001b[1m8s\u001b[0m 42ms/step - accuracy: 0.8564 - loss: 0.3785 - precision: 0.8916 - recall: 0.7558 - val_accuracy: 0.7955 - val_loss: 0.4703 - val_precision: 0.7841 - val_recall: 0.7198\n",
      "Epoch 7/20\n",
      "\u001b[1m189/189\u001b[0m \u001b[32m━━━━━━━━━━━━━━━━━━━━\u001b[0m\u001b[37m\u001b[0m \u001b[1m8s\u001b[0m 42ms/step - accuracy: 0.8743 - loss: 0.3460 - precision: 0.8894 - recall: 0.8059 - val_accuracy: 0.7902 - val_loss: 0.4785 - val_precision: 0.7755 - val_recall: 0.7167\n",
      "Epoch 8/20\n",
      "\u001b[1m189/189\u001b[0m \u001b[32m━━━━━━━━━━━━━━━━━━━━\u001b[0m\u001b[37m\u001b[0m \u001b[1m8s\u001b[0m 41ms/step - accuracy: 0.9048 - loss: 0.3056 - precision: 0.9164 - recall: 0.8554 - val_accuracy: 0.7604 - val_loss: 0.5207 - val_precision: 0.6929 - val_recall: 0.7895\n",
      "Epoch 9/20\n",
      "\u001b[1m189/189\u001b[0m \u001b[32m━━━━━━━━━━━━━━━━━━━━\u001b[0m\u001b[37m\u001b[0m \u001b[1m8s\u001b[0m 42ms/step - accuracy: 0.9142 - loss: 0.2710 - precision: 0.9220 - recall: 0.8639 - val_accuracy: 0.7611 - val_loss: 0.5359 - val_precision: 0.6960 - val_recall: 0.7833\n",
      "Epoch 10/20\n",
      "\u001b[1m189/189\u001b[0m \u001b[32m━━━━━━━━━━━━━━━━━━━━\u001b[0m\u001b[37m\u001b[0m \u001b[1m8s\u001b[0m 42ms/step - accuracy: 0.9299 - loss: 0.2386 - precision: 0.9327 - recall: 0.9000 - val_accuracy: 0.7756 - val_loss: 0.5695 - val_precision: 0.7351 - val_recall: 0.7430\n",
      "Epoch 11/20\n",
      "\u001b[1m189/189\u001b[0m \u001b[32m━━━━━━━━━━━━━━━━━━━━\u001b[0m\u001b[37m\u001b[0m \u001b[1m8s\u001b[0m 42ms/step - accuracy: 0.9380 - loss: 0.2223 - precision: 0.9343 - recall: 0.9232 - val_accuracy: 0.7743 - val_loss: 0.6577 - val_precision: 0.7357 - val_recall: 0.7368\n"
     ]
    }
   ],
   "source": [
    "# Hyperparameter Optimization & Training Setup\n",
    "\n",
    "# Optimization: Using a learning rate scheduler and dropout\n",
    "optimizer = tf.keras.optimizers.Adam(learning_rate=1e-4) # Start with a small learning rate\n",
    "\n",
    "model.compile(\n",
    "    optimizer=optimizer,\n",
    "    loss='binary_crossentropy',\n",
    "    metrics=['accuracy', tf.keras.metrics.Precision(), tf.keras.metrics.Recall()]\n",
    ")\n",
    "\n",
    "# Callbacks for improved training performance\n",
    "early_stopping = tf.keras.callbacks.EarlyStopping(\n",
    "    monitor='val_loss', patience=5, restore_best_weights=True\n",
    ")\n",
    "\n",
    "print(model.summary())\n",
    "\n",
    "# Train Model\n",
    "history = model.fit(\n",
    "     {'text_input': X_text_train, 'cat_input': X_cat_train},\n",
    "     Y_train,\n",
    "     epochs=20,\n",
    "     batch_size=32,\n",
    "     validation_data=({'text_input': X_text_val, 'cat_input': X_cat_val}, Y_val),\n",
    "     callbacks=[early_stopping],\n",
    "     verbose=1\n",
    " )"
   ]
  },
  {
   "cell_type": "code",
   "execution_count": 27,
   "id": "a32c14fc",
   "metadata": {
    "execution": {
     "iopub.execute_input": "2025-10-27T01:13:48.174978Z",
     "iopub.status.busy": "2025-10-27T01:13:48.174625Z",
     "iopub.status.idle": "2025-10-27T01:13:48.179094Z",
     "shell.execute_reply": "2025-10-27T01:13:48.178125Z"
    },
    "papermill": {
     "duration": 0.071946,
     "end_time": "2025-10-27T01:13:48.180775",
     "exception": false,
     "start_time": "2025-10-27T01:13:48.108829",
     "status": "completed"
    },
    "tags": []
   },
   "outputs": [],
   "source": [
    "## Submission\n"
   ]
  },
  {
   "cell_type": "markdown",
   "id": "ef47b633",
   "metadata": {
    "papermill": {
     "duration": 0.063324,
     "end_time": "2025-10-27T01:13:48.308791",
     "exception": false,
     "start_time": "2025-10-27T01:13:48.245467",
     "status": "completed"
    },
    "tags": []
   },
   "source": [
    "## Result and Analysis\n",
    "Hyperparameter tuning, compare different architectures, apply techniques to improve training/performance.  Include results with tables and figures.  Discuss why or why not things worked well, any troubleshooting, and hyperparameter optimization procedure summary."
   ]
  },
  {
   "cell_type": "markdown",
   "id": "2b3e0227",
   "metadata": {
    "papermill": {
     "duration": 0.063918,
     "end_time": "2025-10-27T01:13:48.437622",
     "exception": false,
     "start_time": "2025-10-27T01:13:48.373704",
     "status": "completed"
    },
    "tags": []
   },
   "source": [
    "### Results\n",
    "Best Epoch = 6.  An accuracy of 81.3% suggests that the model is performing quite well at distinguishing between disaster and non-disaster tweets.  The difference between Precision (84.0%) and Recall (69.7%) indicates a slight bias.  The model correctly predicts a disaster 84% of the time, but misses about 30% of the actual disaster tweets (low recall).  \n",
    "\n",
    "The F1 score is 2x(Precision * Recall)/(Precision + Recall) which is 76.2%.\n",
    "\n",
    "### Analysis\n",
    "We used a Bi-LSTM instead of a simpler RNN to improve sequence learning capacity.  We used Adam optimizer with a small initial learning rate (1e^-4) for slow, stable convergence.  Dropout (0.5) was applied after the main Bi-LSTM output and before the final dense layers to fight overfitting.  We used an Early Stopping callback to monitor the val_loss.  Training automatically stopped after the validation loss failed to improve for 5 consecutive epochs.  This technique is used to prevent overfitting (and speed things up).  "
   ]
  },
  {
   "cell_type": "markdown",
   "id": "58bc04ce",
   "metadata": {
    "papermill": {
     "duration": 0.063862,
     "end_time": "2025-10-27T01:13:48.565156",
     "exception": false,
     "start_time": "2025-10-27T01:13:48.501294",
     "status": "completed"
    },
    "tags": []
   },
   "source": [
    "Submissions are evaluated using F1 between the predicted and expected answers."
   ]
  },
  {
   "cell_type": "markdown",
   "id": "2e98de10",
   "metadata": {
    "papermill": {
     "duration": 0.063786,
     "end_time": "2025-10-27T01:13:48.693494",
     "exception": false,
     "start_time": "2025-10-27T01:13:48.629708",
     "status": "completed"
    },
    "tags": []
   },
   "source": [
    "## Discussion and Conclusion\n",
    "Discuss and interpret results as well as learnings and takeaways.  What did and did not help improve the performance of the model(s)  What improvements could we try in the future?"
   ]
  },
  {
   "cell_type": "markdown",
   "id": "f25e7c98",
   "metadata": {
    "papermill": {
     "duration": 0.063499,
     "end_time": "2025-10-27T01:13:48.820853",
     "exception": false,
     "start_time": "2025-10-27T01:13:48.757354",
     "status": "completed"
    },
    "tags": []
   },
   "source": [
    "### Areas for Improvement\n",
    "The Bi-LSTM model might still struggle with stuble sarcasm or highly figurative language that is often found in social media.  \n",
    "\n",
    "A pre-trained embedding like GloVe might have gave a better starting point, especially if many words in the test set were not present in the training set.  \n",
    "\n",
    "The categorical dense layers were simple, more complex interactions could be learned by adding more layers to the categorical branch. "
   ]
  }
 ],
 "metadata": {
  "kaggle": {
   "accelerator": "none",
   "dataSources": [
    {
     "databundleVersionId": 869809,
     "sourceId": 17777,
     "sourceType": "competition"
    }
   ],
   "dockerImageVersionId": 31153,
   "isGpuEnabled": false,
   "isInternetEnabled": true,
   "language": "python",
   "sourceType": "notebook"
  },
  "kernelspec": {
   "display_name": "Python 3",
   "language": "python",
   "name": "python3"
  },
  "language_info": {
   "codemirror_mode": {
    "name": "ipython",
    "version": 3
   },
   "file_extension": ".py",
   "mimetype": "text/x-python",
   "name": "python",
   "nbconvert_exporter": "python",
   "pygments_lexer": "ipython3",
   "version": "3.11.13"
  },
  "papermill": {
   "default_parameters": {},
   "duration": 136.425859,
   "end_time": "2025-10-27T01:13:52.356235",
   "environment_variables": {},
   "exception": null,
   "input_path": "__notebook__.ipynb",
   "output_path": "__notebook__.ipynb",
   "parameters": {},
   "start_time": "2025-10-27T01:11:35.930376",
   "version": "2.6.0"
  }
 },
 "nbformat": 4,
 "nbformat_minor": 5
}
